{
 "cells": [
  {
   "cell_type": "code",
   "execution_count": 10,
   "metadata": {
    "collapsed": false
   },
   "outputs": [],
   "source": [
    "import csv\n",
    "\n",
    "teams = dict()\n",
    "with open('data/Teams.csv') as csvfile:\n",
    "    reader = csv.DictReader(csvfile)\n",
    "    for row in reader:\n",
    "        teams[row['Team_Id']] = row['Team_Name']\n",
    "        teams[row['Team_Name']] = row['Team_Id']"
   ]
  },
  {
   "cell_type": "code",
   "execution_count": 15,
   "metadata": {
    "collapsed": false
   },
   "outputs": [],
   "source": [
    "import pandas as pd\n",
    "\n",
    "seasons = pd.read_csv('data/Seasons.csv')\n",
    "seeds = pd.read_csv('data/TourneySeeds.csv')\n",
    "slots = pd.read_csv('data/TourneySlots.csv')\n",
    "tourney_details = pd.read_csv('data/TourneyDetailedResults.csv')\n",
    "tourney_results = pd.read_csv('data/TourneyCompactResults.csv')\n",
    "season_details = pd.read_csv('data/RegularSeasonDetailedResults.csv')\n",
    "season_results = pd.read_csv('data/RegularSeasonCompactResults.csv')"
   ]
  }
 ],
 "metadata": {
  "kernelspec": {
   "display_name": "Python 2",
   "language": "python",
   "name": "python2"
  },
  "language_info": {
   "codemirror_mode": {
    "name": "ipython",
    "version": 2
   },
   "file_extension": ".py",
   "mimetype": "text/x-python",
   "name": "python",
   "nbconvert_exporter": "python",
   "pygments_lexer": "ipython2",
   "version": "2.7.11"
  }
 },
 "nbformat": 4,
 "nbformat_minor": 0
}
