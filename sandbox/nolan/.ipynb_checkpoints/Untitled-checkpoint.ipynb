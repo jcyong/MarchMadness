{
 "cells": [
  {
   "cell_type": "code",
   "execution_count": 6,
   "metadata": {
    "collapsed": false
   },
   "outputs": [],
   "source": [
    "seasons = read.csv('../../data/Seasons.csv')\n",
    "seeds = read.csv('../../data/TourneySeeds.csv')\n",
    "slots = read.csv('../../data/TourneySlots.csv')\n",
    "tourney_details = read.csv('../../data/TourneyDetailedResults.csv')\n",
    "tourney_results = read.csv('../../data/TourneyCompactResults.csv')\n",
    "season_details = read.csv('../../data/RegularSeasonDetailedResults.csv')\n",
    "season_results = read.csv('../../data/RegularSeasonCompactResults.csv')"
   ]
  }
 ],
 "metadata": {
  "kernelspec": {
   "display_name": "R",
   "language": "R",
   "name": "ir"
  },
  "language_info": {
   "codemirror_mode": "r",
   "file_extension": ".r",
   "mimetype": "text/x-r-source",
   "name": "R",
   "pygments_lexer": "r",
   "version": "3.2.3"
  }
 },
 "nbformat": 4,
 "nbformat_minor": 0
}
